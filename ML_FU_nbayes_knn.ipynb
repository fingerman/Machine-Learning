{
 "cells": [
  {
   "cell_type": "markdown",
   "metadata": {},
   "source": [
    "\n",
    "<center> <h3> Naive Bayes, k-nearest Neighbours </h3> </center>\n"
   ]
  },
  {
   "cell_type": "code",
   "execution_count": 33,
   "metadata": {},
   "outputs": [],
   "source": [
    "%matplotlib inline"
   ]
  },
  {
   "cell_type": "code",
   "execution_count": 43,
   "metadata": {},
   "outputs": [],
   "source": [
    "import numpy as np\n",
    "import pandas as pd\n",
    "import matplotlib.pyplot as plt\n",
    "import seaborn as sns\n",
    "\n",
    "from sklearn import preprocessing, metrics\n",
    "from sklearn.preprocessing import StandardScaler\n",
    "from sklearn.model_selection import train_test_split, cross_val_score, KFold\n",
    "from sklearn.model_selection import StratifiedKFold\n",
    "from sklearn.neighbors import KNeighborsClassifier\n",
    "from sklearn.multiclass import OneVsRestClassifier\n",
    "from sklearn.model_selection import GridSearchCV, LeaveOneOut\n",
    "from sklearn.ensemble import RandomForestClassifier\n",
    "from sklearn.metrics import accuracy_score\n",
    "from sklearn.naive_bayes import MultinomialNB\n",
    "from sklearn.metrics import confusion_matrix\n",
    "from sklearn.metrics import classification_report\n",
    "from sklearn.metrics import roc_curve, auc\n",
    "from sklearn.preprocessing import label_binarize\n",
    "from scipy import interp\n",
    "from itertools import cycle"
   ]
  },
  {
   "cell_type": "code",
   "execution_count": 2,
   "metadata": {},
   "outputs": [],
   "source": [
    "# dataset from: \n",
    "# https://archive.ics.uci.edu/ml/datasets/nursery\n",
    "\n",
    "\n",
    "nursery_raw = pd.read_csv('https://archive.ics.uci.edu/ml/machine-learning-databases/nursery/nursery.data', sep=\",\")\n",
    "nursery_raw.columns = ['parents', 'has_nurs', 'form', 'children', 'housing', 'finance', 'social', 'health', 'evaluation']\n",
    "nursery_data = nursery_raw"
   ]
  },
  {
   "cell_type": "markdown",
   "metadata": {},
   "source": [
    "##  Data and descriptive statistics\n",
    "The data is a real world case aggregated to rank applications for nursery schools. It can be found at the [UCI Machine Learning Repository](https://archive.ics.uci.edu/ml/datasets/nursery).  It was used during several years in 1980's when there was excessive enrollment to these schools in Ljubljana, Slovenia, and the rejected applications frequently needed an objective explanation. The final decision depended on three subproblems: occupation of parents and child's nursery, family structure and financial standing, and social and health picture of the family. In this data set each  of the featrures of a certain application has been ranked. The aim was to accept children, who have the highest need of nursing. The following features were aggregated.\n",
    "\n",
    "\n",
    "Target Variable:\n",
    "    \n",
    "    evaluation            not_recom, recommend, very_recom, priority, spec_prior\n",
    "Attributes:\n",
    "\n",
    "    parents        Parents' occupation: usual, pretentious, great_pret\n",
    "    has_nurs       Child's nursery: proper, less_proper, improper, critical, very_crit\n",
    "    form           Form of the family: complete, completed, incomplete, foster\n",
    "    children       number of preschool and school-age children: 1, 2, 3, more\n",
    "    housing        Housing conditions: convenient, less_conv, critical\n",
    "    finance        Financial standing of the family: convenient, inconv\n",
    "    social         Social conditions of the family: non-prob, slightly_prob, problematic\n",
    "    health         Health conditions of the family: recommended, priority, not_recom\n",
    "\n",
    "N of observations:\n",
    "    \n",
    "    12960\n",
    "    "
   ]
  },
  {
   "cell_type": "code",
   "execution_count": 3,
   "metadata": {},
   "outputs": [
    {
     "data": {
      "text/html": [
       "<div>\n",
       "<style scoped>\n",
       "    .dataframe tbody tr th:only-of-type {\n",
       "        vertical-align: middle;\n",
       "    }\n",
       "\n",
       "    .dataframe tbody tr th {\n",
       "        vertical-align: top;\n",
       "    }\n",
       "\n",
       "    .dataframe thead th {\n",
       "        text-align: right;\n",
       "    }\n",
       "</style>\n",
       "<table border=\"1\" class=\"dataframe\">\n",
       "  <thead>\n",
       "    <tr style=\"text-align: right;\">\n",
       "      <th></th>\n",
       "      <th>parents</th>\n",
       "      <th>has_nurs</th>\n",
       "      <th>form</th>\n",
       "      <th>children</th>\n",
       "      <th>housing</th>\n",
       "      <th>finance</th>\n",
       "      <th>social</th>\n",
       "      <th>health</th>\n",
       "      <th>evaluation</th>\n",
       "    </tr>\n",
       "  </thead>\n",
       "  <tbody>\n",
       "    <tr>\n",
       "      <th>0</th>\n",
       "      <td>usual</td>\n",
       "      <td>proper</td>\n",
       "      <td>complete</td>\n",
       "      <td>1</td>\n",
       "      <td>convenient</td>\n",
       "      <td>convenient</td>\n",
       "      <td>nonprob</td>\n",
       "      <td>priority</td>\n",
       "      <td>priority</td>\n",
       "    </tr>\n",
       "    <tr>\n",
       "      <th>1</th>\n",
       "      <td>usual</td>\n",
       "      <td>proper</td>\n",
       "      <td>complete</td>\n",
       "      <td>1</td>\n",
       "      <td>convenient</td>\n",
       "      <td>convenient</td>\n",
       "      <td>nonprob</td>\n",
       "      <td>not_recom</td>\n",
       "      <td>not_recom</td>\n",
       "    </tr>\n",
       "    <tr>\n",
       "      <th>2</th>\n",
       "      <td>usual</td>\n",
       "      <td>proper</td>\n",
       "      <td>complete</td>\n",
       "      <td>1</td>\n",
       "      <td>convenient</td>\n",
       "      <td>convenient</td>\n",
       "      <td>slightly_prob</td>\n",
       "      <td>recommended</td>\n",
       "      <td>recommend</td>\n",
       "    </tr>\n",
       "    <tr>\n",
       "      <th>3</th>\n",
       "      <td>usual</td>\n",
       "      <td>proper</td>\n",
       "      <td>complete</td>\n",
       "      <td>1</td>\n",
       "      <td>convenient</td>\n",
       "      <td>convenient</td>\n",
       "      <td>slightly_prob</td>\n",
       "      <td>priority</td>\n",
       "      <td>priority</td>\n",
       "    </tr>\n",
       "    <tr>\n",
       "      <th>4</th>\n",
       "      <td>usual</td>\n",
       "      <td>proper</td>\n",
       "      <td>complete</td>\n",
       "      <td>1</td>\n",
       "      <td>convenient</td>\n",
       "      <td>convenient</td>\n",
       "      <td>slightly_prob</td>\n",
       "      <td>not_recom</td>\n",
       "      <td>not_recom</td>\n",
       "    </tr>\n",
       "  </tbody>\n",
       "</table>\n",
       "</div>"
      ],
      "text/plain": [
       "  parents has_nurs      form children     housing     finance         social  \\\n",
       "0   usual   proper  complete        1  convenient  convenient        nonprob   \n",
       "1   usual   proper  complete        1  convenient  convenient        nonprob   \n",
       "2   usual   proper  complete        1  convenient  convenient  slightly_prob   \n",
       "3   usual   proper  complete        1  convenient  convenient  slightly_prob   \n",
       "4   usual   proper  complete        1  convenient  convenient  slightly_prob   \n",
       "\n",
       "        health evaluation  \n",
       "0     priority   priority  \n",
       "1    not_recom  not_recom  \n",
       "2  recommended  recommend  \n",
       "3     priority   priority  \n",
       "4    not_recom  not_recom  "
      ]
     },
     "execution_count": 3,
     "metadata": {},
     "output_type": "execute_result"
    }
   ],
   "source": [
    "nursery_data.head()"
   ]
  },
  {
   "cell_type": "markdown",
   "metadata": {},
   "source": [
    "###  Recode Variables\n",
    "\n",
    "In our original dataset the feauture names are strings. For the sake of interpreting the results of the analysis we need to recode them using proper\n",
    "and comparable scale level. The recoding starts with \"0\" at the lowest level of our ordinal variables moving ahead. \n",
    "\n",
    "    parents        0 = usual, 1 = pretentious, 2 = great_pret\n",
    "    has_nurs       4 = proper, 3 = less_proper, 2 = improper, 1 = critical, 0 = very_crit\n",
    "    form           3 = complete, 2 = completed, 1 = incomplete, 0 = foster\n",
    "    children       1, 2, 3, 4 = more\n",
    "    housing        1 = less_conv, 0 = critical\n",
    "    finance        1 = convenient, 0 = inconv\n",
    "    social         2 =  non-prob, 1 = slightly_prob, 0 = problematic\n",
    "    health         2 = recommended, 1 = priority, 0 = not_recom\n",
    "    \n"
   ]
  },
  {
   "cell_type": "code",
   "execution_count": 4,
   "metadata": {},
   "outputs": [],
   "source": [
    "def parents_to_int(series):\n",
    "    if series == \"usual\":\n",
    "        return 0\n",
    "    elif series == \"pretentious\":\n",
    "        return 1\n",
    "    elif series == \"great_pret\":\n",
    "        return 2\n",
    "\n",
    "nursery_data['parents'] = nursery_data['parents'].apply(parents_to_int)"
   ]
  },
  {
   "cell_type": "code",
   "execution_count": 5,
   "metadata": {},
   "outputs": [],
   "source": [
    "def nurs_to_int(series):\n",
    "    if series == \"proper\":\n",
    "        return 4\n",
    "    elif series == \"less_proper\":\n",
    "        return 3\n",
    "    elif series == \"improper\":\n",
    "        return 2\n",
    "    elif series == \"critical\":\n",
    "        return 1\n",
    "    elif series == \"very_crit\":\n",
    "        return 0\n",
    "\n",
    "nursery_data['has_nurs'] = nursery_data['has_nurs'].apply(nurs_to_int)"
   ]
  },
  {
   "cell_type": "code",
   "execution_count": 6,
   "metadata": {},
   "outputs": [],
   "source": [
    "def form_to_int(series):\n",
    "    if series == \"complete\":\n",
    "        return 3\n",
    "    elif series == \"completed\":\n",
    "        return 2\n",
    "    elif series == \"incomplete\":\n",
    "        return 1\n",
    "    elif series == \"foster\":\n",
    "        return 0\n",
    "\n",
    "nursery_data['form'] = nursery_data['form'].apply(form_to_int)"
   ]
  },
  {
   "cell_type": "code",
   "execution_count": 7,
   "metadata": {},
   "outputs": [],
   "source": [
    "nursery_data['children'].replace('more', 4, inplace=True)"
   ]
  },
  {
   "cell_type": "code",
   "execution_count": 8,
   "metadata": {},
   "outputs": [],
   "source": [
    "def housing_to_int(series):\n",
    "    if series == \"convenient\":\n",
    "        return 2\n",
    "    elif series == \"less_conv\":\n",
    "        return 1\n",
    "    elif series == \"critical\":\n",
    "        return 0\n",
    "    \n",
    "nursery_data['housing'] = nursery_data['housing'].apply(housing_to_int)   "
   ]
  },
  {
   "cell_type": "code",
   "execution_count": 9,
   "metadata": {},
   "outputs": [],
   "source": [
    "def finance_to_int(series):\n",
    "    if series == \"convenient\":\n",
    "        return 1\n",
    "    elif series == \"inconv\":\n",
    "        return 0\n",
    "    \n",
    "nursery_data['finance'] = nursery_data['finance'].apply(finance_to_int)   "
   ]
  },
  {
   "cell_type": "code",
   "execution_count": 10,
   "metadata": {},
   "outputs": [],
   "source": [
    "\n",
    "def social_to_int(series):\n",
    "    if series == \"nonprob\":\n",
    "        return 2\n",
    "    elif series == \"slightly_prob\":\n",
    "        return 1\n",
    "    elif series == \"problematic\":\n",
    "        return 0\n",
    "    \n",
    "nursery_data['social'] = nursery_data['social'].apply(social_to_int)      "
   ]
  },
  {
   "cell_type": "code",
   "execution_count": 11,
   "metadata": {},
   "outputs": [],
   "source": [
    "def health_to_int(series):\n",
    "    if series == \"recommended\":\n",
    "        return 2\n",
    "    elif series == \"priority\":\n",
    "        return 1\n",
    "    elif series == \"not_recom\":\n",
    "        return 0\n",
    "    \n",
    "nursery_data['health'] = nursery_data['health'].apply(health_to_int) "
   ]
  },
  {
   "cell_type": "markdown",
   "metadata": {},
   "source": [
    "Concerning the target variable we see that the number of observations in the category 'recommend' equals just one,\n",
    "therefore we will combine it with the next closest category 'very_recom'."
   ]
  },
  {
   "cell_type": "code",
   "execution_count": 12,
   "metadata": {},
   "outputs": [
    {
     "data": {
      "text/plain": [
       "not_recom     4320\n",
       "priority      4266\n",
       "spec_prior    4044\n",
       "very_recom     328\n",
       "recommend        1\n",
       "Name: evaluation, dtype: int64"
      ]
     },
     "execution_count": 12,
     "metadata": {},
     "output_type": "execute_result"
    }
   ],
   "source": [
    "nursery_data['evaluation'].value_counts()"
   ]
  },
  {
   "cell_type": "markdown",
   "metadata": {},
   "source": [
    "Hence we get:\n",
    "\n",
    "    evaluation            0 = not_recom, 1 = recommend (and very recommend), 2 = priority, 3 = spec_prior"
   ]
  },
  {
   "cell_type": "code",
   "execution_count": 13,
   "metadata": {},
   "outputs": [],
   "source": [
    "def eval_to_int(series):\n",
    "    if series == \"not_recom\":\n",
    "        return 0\n",
    "    elif series == \"recommend\":\n",
    "        return 1\n",
    "    elif series == \"very_recom\":\n",
    "        return 1\n",
    "    elif series == \"priority\":\n",
    "        return 2\n",
    "    elif series == \"spec_prior\":\n",
    "        return 3\n",
    "\n",
    "nursery_data['evaluation'] = nursery_data['evaluation'].apply(eval_to_int)"
   ]
  },
  {
   "cell_type": "markdown",
   "metadata": {},
   "source": [
    "Hence the dataset looks like:"
   ]
  },
  {
   "cell_type": "code",
   "execution_count": 14,
   "metadata": {},
   "outputs": [
    {
     "data": {
      "text/html": [
       "<div>\n",
       "<style scoped>\n",
       "    .dataframe tbody tr th:only-of-type {\n",
       "        vertical-align: middle;\n",
       "    }\n",
       "\n",
       "    .dataframe tbody tr th {\n",
       "        vertical-align: top;\n",
       "    }\n",
       "\n",
       "    .dataframe thead th {\n",
       "        text-align: right;\n",
       "    }\n",
       "</style>\n",
       "<table border=\"1\" class=\"dataframe\">\n",
       "  <thead>\n",
       "    <tr style=\"text-align: right;\">\n",
       "      <th></th>\n",
       "      <th>parents</th>\n",
       "      <th>has_nurs</th>\n",
       "      <th>form</th>\n",
       "      <th>children</th>\n",
       "      <th>housing</th>\n",
       "      <th>finance</th>\n",
       "      <th>social</th>\n",
       "      <th>health</th>\n",
       "      <th>evaluation</th>\n",
       "    </tr>\n",
       "  </thead>\n",
       "  <tbody>\n",
       "    <tr>\n",
       "      <th>0</th>\n",
       "      <td>0</td>\n",
       "      <td>4</td>\n",
       "      <td>3</td>\n",
       "      <td>1</td>\n",
       "      <td>2</td>\n",
       "      <td>1</td>\n",
       "      <td>2</td>\n",
       "      <td>1</td>\n",
       "      <td>2</td>\n",
       "    </tr>\n",
       "    <tr>\n",
       "      <th>1</th>\n",
       "      <td>0</td>\n",
       "      <td>4</td>\n",
       "      <td>3</td>\n",
       "      <td>1</td>\n",
       "      <td>2</td>\n",
       "      <td>1</td>\n",
       "      <td>2</td>\n",
       "      <td>0</td>\n",
       "      <td>0</td>\n",
       "    </tr>\n",
       "    <tr>\n",
       "      <th>2</th>\n",
       "      <td>0</td>\n",
       "      <td>4</td>\n",
       "      <td>3</td>\n",
       "      <td>1</td>\n",
       "      <td>2</td>\n",
       "      <td>1</td>\n",
       "      <td>1</td>\n",
       "      <td>2</td>\n",
       "      <td>1</td>\n",
       "    </tr>\n",
       "    <tr>\n",
       "      <th>3</th>\n",
       "      <td>0</td>\n",
       "      <td>4</td>\n",
       "      <td>3</td>\n",
       "      <td>1</td>\n",
       "      <td>2</td>\n",
       "      <td>1</td>\n",
       "      <td>1</td>\n",
       "      <td>1</td>\n",
       "      <td>2</td>\n",
       "    </tr>\n",
       "    <tr>\n",
       "      <th>4</th>\n",
       "      <td>0</td>\n",
       "      <td>4</td>\n",
       "      <td>3</td>\n",
       "      <td>1</td>\n",
       "      <td>2</td>\n",
       "      <td>1</td>\n",
       "      <td>1</td>\n",
       "      <td>0</td>\n",
       "      <td>0</td>\n",
       "    </tr>\n",
       "  </tbody>\n",
       "</table>\n",
       "</div>"
      ],
      "text/plain": [
       "   parents  has_nurs  form children  housing  finance  social  health  \\\n",
       "0        0         4     3        1        2        1       2       1   \n",
       "1        0         4     3        1        2        1       2       0   \n",
       "2        0         4     3        1        2        1       1       2   \n",
       "3        0         4     3        1        2        1       1       1   \n",
       "4        0         4     3        1        2        1       1       0   \n",
       "\n",
       "   evaluation  \n",
       "0           2  \n",
       "1           0  \n",
       "2           1  \n",
       "3           2  \n",
       "4           0  "
      ]
     },
     "execution_count": 14,
     "metadata": {},
     "output_type": "execute_result"
    }
   ],
   "source": [
    "# the data set after recoding\n",
    "nursery_data.head()"
   ]
  },
  {
   "cell_type": "code",
   "execution_count": 15,
   "metadata": {},
   "outputs": [
    {
     "data": {
      "text/plain": [
       "0    4320\n",
       "2    4266\n",
       "3    4044\n",
       "1     329\n",
       "Name: evaluation, dtype: int64"
      ]
     },
     "execution_count": 15,
     "metadata": {},
     "output_type": "execute_result"
    }
   ],
   "source": [
    "nursery_data.evaluation.value_counts()"
   ]
  },
  {
   "cell_type": "markdown",
   "metadata": {},
   "source": [
    "#### Tasks\n",
    "### I. Analyze the chosen dataset using the Naïve Bayes classifier.  \n",
    "### II. Report and discuss briefly the following properties:  \n",
    "A. classification measures of the method (after training): report the accuracy, the\n",
    "confusion matrix, precision and recall, the F1 score, sensitivity and specificity, the ROC curve\n",
    "and the AUC value for the used data-set  \n",
    "B. efficiency,  \n",
    "C. robustness (perform tests with different noise levels), and  \n",
    "D. how the results can be interpreted.  \n",
    "### III. Use the following hold-out sets (or strategies) and compare the results:\n",
    "A. Training-set (70%) and test-set (30),   \n",
    "B. 5-fold cross-validation, and  \n",
    "C. Leave-one-out cross-validation.  \n",
    "### IV. Analyze the correlation structure in your data-set amongst the attributes and evaluate how (or not) this influences the performance of the algorithm."
   ]
  },
  {
   "cell_type": "markdown",
   "metadata": {},
   "source": [
    "### Descriptive Statistics\n",
    "\n",
    "\n",
    "First we will take a look at our target variable - the final evaluation of a child's necessity to be accepted in a nursery facility. \n"
   ]
  },
  {
   "cell_type": "code",
   "execution_count": 16,
   "metadata": {},
   "outputs": [
    {
     "data": {
      "image/png": "[encoded data removed]",
      "text/plain": [
       "<matplotlib.figure.Figure at 0x1af2782d400>"
      ]
     },
     "metadata": {},
     "output_type": "display_data"
    }
   ],
   "source": [
    "sns.set(style=\"white\")\n",
    "sns.set(style=\"whitegrid\", color_codes=True)\n",
    "sns.countplot(x='evaluation', data=nursery_data, palette='hls')\n",
    "plt.show()"
   ]
  },
  {
   "cell_type": "markdown",
   "metadata": {},
   "source": [
    "We see we have four classes where the first from the left denotes the number of not recommended applicants. Further we can say we will not experience a huge bias in our estimations later, because of inbalanced targed variable. Let us move further to the correlations among variables in the data set:"
   ]
  },
  {
   "cell_type": "code",
   "execution_count": 18,
   "metadata": {},
   "outputs": [
    {
     "data": {
      "image/png": "[encoded data removed]",
      "text/plain": [
       "<matplotlib.figure.Figure at 0x1af1dafef60>"
      ]
     },
     "metadata": {},
     "output_type": "display_data"
    }
   ],
   "source": [
    "\n",
    "sns.set(style=\"white\")\n",
    "# the correlation matrix\n",
    "corr = nursery_data.corr()\n",
    "# a mask for the upper triangle\n",
    "mask = np.zeros_like(corr, dtype=np.bool)\n",
    "mask[np.triu_indices_from(mask)] = True\n",
    "\n",
    "# Set up the matplotlib figure\n",
    "f, ax = plt.subplots(figsize=(35, 9))\n",
    "\n",
    "# Generate a custom diverging colormap\n",
    "cmap = sns.diverging_palette(220, 15, as_cmap=True)\n",
    "\n",
    "# Draw the heatmap with the mask and correct aspect ratio\n",
    "p = sns.heatmap(corr, mask=mask, cmap=cmap, vmax=.3, center=0,\n",
    "            square=True, linewidths=.5, cbar_kws={\"shrink\": .5})"
   ]
  },
  {
   "cell_type": "markdown",
   "metadata": {},
   "source": [
    "We see there is no correlation among attributes. Due could be the fact we work with artificially aggregated data \n",
    "basing on applications. However all attributes relate to the target variable. Highest correlations are witnessed \n",
    "by the health conditions of the family, followed by he parents occupation and if parents have nursing experience. \n",
    "We see also that the dataset is noiseless. It completely covers the attribute space."
   ]
  },
  {
   "cell_type": "code",
   "execution_count": 19,
   "metadata": {},
   "outputs": [
    {
     "data": {
      "text/html": [
       "<div>\n",
       "<style scoped>\n",
       "    .dataframe tbody tr th:only-of-type {\n",
       "        vertical-align: middle;\n",
       "    }\n",
       "\n",
       "    .dataframe tbody tr th {\n",
       "        vertical-align: top;\n",
       "    }\n",
       "\n",
       "    .dataframe thead th {\n",
       "        text-align: right;\n",
       "    }\n",
       "</style>\n",
       "<table border=\"1\" class=\"dataframe\">\n",
       "  <thead>\n",
       "    <tr style=\"text-align: right;\">\n",
       "      <th></th>\n",
       "      <th>parents</th>\n",
       "      <th>has_nurs</th>\n",
       "      <th>form</th>\n",
       "      <th>housing</th>\n",
       "      <th>finance</th>\n",
       "      <th>social</th>\n",
       "      <th>health</th>\n",
       "      <th>evaluation</th>\n",
       "    </tr>\n",
       "  </thead>\n",
       "  <tbody>\n",
       "    <tr>\n",
       "      <th>parents</th>\n",
       "      <td>1.000000</td>\n",
       "      <td>0.000134</td>\n",
       "      <td>0.000127</td>\n",
       "      <td>0.000116</td>\n",
       "      <td>0.000095</td>\n",
       "      <td>0.000116</td>\n",
       "      <td>0.000116</td>\n",
       "      <td>0.111790</td>\n",
       "    </tr>\n",
       "    <tr>\n",
       "      <th>has_nurs</th>\n",
       "      <td>0.000134</td>\n",
       "      <td>1.000000</td>\n",
       "      <td>-0.000146</td>\n",
       "      <td>-0.000134</td>\n",
       "      <td>-0.000109</td>\n",
       "      <td>-0.000134</td>\n",
       "      <td>-0.000134</td>\n",
       "      <td>-0.173960</td>\n",
       "    </tr>\n",
       "    <tr>\n",
       "      <th>form</th>\n",
       "      <td>0.000127</td>\n",
       "      <td>-0.000146</td>\n",
       "      <td>1.000000</td>\n",
       "      <td>-0.000127</td>\n",
       "      <td>-0.000104</td>\n",
       "      <td>-0.000127</td>\n",
       "      <td>-0.000127</td>\n",
       "      <td>-0.030618</td>\n",
       "    </tr>\n",
       "    <tr>\n",
       "      <th>housing</th>\n",
       "      <td>0.000116</td>\n",
       "      <td>-0.000134</td>\n",
       "      <td>-0.000127</td>\n",
       "      <td>1.000000</td>\n",
       "      <td>-0.000095</td>\n",
       "      <td>-0.000116</td>\n",
       "      <td>-0.000116</td>\n",
       "      <td>-0.057019</td>\n",
       "    </tr>\n",
       "    <tr>\n",
       "      <th>finance</th>\n",
       "      <td>0.000095</td>\n",
       "      <td>-0.000109</td>\n",
       "      <td>-0.000104</td>\n",
       "      <td>-0.000095</td>\n",
       "      <td>1.000000</td>\n",
       "      <td>-0.000095</td>\n",
       "      <td>-0.000095</td>\n",
       "      <td>-0.027568</td>\n",
       "    </tr>\n",
       "    <tr>\n",
       "      <th>social</th>\n",
       "      <td>0.000116</td>\n",
       "      <td>-0.000134</td>\n",
       "      <td>-0.000127</td>\n",
       "      <td>-0.000116</td>\n",
       "      <td>-0.000095</td>\n",
       "      <td>1.000000</td>\n",
       "      <td>-0.000116</td>\n",
       "      <td>-0.046539</td>\n",
       "    </tr>\n",
       "    <tr>\n",
       "      <th>health</th>\n",
       "      <td>0.000116</td>\n",
       "      <td>-0.000134</td>\n",
       "      <td>-0.000127</td>\n",
       "      <td>-0.000116</td>\n",
       "      <td>-0.000095</td>\n",
       "      <td>-0.000116</td>\n",
       "      <td>1.000000</td>\n",
       "      <td>0.756444</td>\n",
       "    </tr>\n",
       "    <tr>\n",
       "      <th>evaluation</th>\n",
       "      <td>0.111790</td>\n",
       "      <td>-0.173960</td>\n",
       "      <td>-0.030618</td>\n",
       "      <td>-0.057019</td>\n",
       "      <td>-0.027568</td>\n",
       "      <td>-0.046539</td>\n",
       "      <td>0.756444</td>\n",
       "      <td>1.000000</td>\n",
       "    </tr>\n",
       "  </tbody>\n",
       "</table>\n",
       "</div>"
      ],
      "text/plain": [
       "             parents  has_nurs      form   housing   finance    social  \\\n",
       "parents     1.000000  0.000134  0.000127  0.000116  0.000095  0.000116   \n",
       "has_nurs    0.000134  1.000000 -0.000146 -0.000134 -0.000109 -0.000134   \n",
       "form        0.000127 -0.000146  1.000000 -0.000127 -0.000104 -0.000127   \n",
       "housing     0.000116 -0.000134 -0.000127  1.000000 -0.000095 -0.000116   \n",
       "finance     0.000095 -0.000109 -0.000104 -0.000095  1.000000 -0.000095   \n",
       "social      0.000116 -0.000134 -0.000127 -0.000116 -0.000095  1.000000   \n",
       "health      0.000116 -0.000134 -0.000127 -0.000116 -0.000095 -0.000116   \n",
       "evaluation  0.111790 -0.173960 -0.030618 -0.057019 -0.027568 -0.046539   \n",
       "\n",
       "              health  evaluation  \n",
       "parents     0.000116    0.111790  \n",
       "has_nurs   -0.000134   -0.173960  \n",
       "form       -0.000127   -0.030618  \n",
       "housing    -0.000116   -0.057019  \n",
       "finance    -0.000095   -0.027568  \n",
       "social     -0.000116   -0.046539  \n",
       "health      1.000000    0.756444  \n",
       "evaluation  0.756444    1.000000  "
      ]
     },
     "execution_count": 19,
     "metadata": {},
     "output_type": "execute_result"
    }
   ],
   "source": [
    "corr"
   ]
  },
  {
   "cell_type": "code",
   "execution_count": 20,
   "metadata": {},
   "outputs": [
    {
     "data": {
      "text/plain": [
       "evaluation    1.000000\n",
       "health        0.756444\n",
       "parents       0.111790\n",
       "finance      -0.027568\n",
       "form         -0.030618\n",
       "social       -0.046539\n",
       "housing      -0.057019\n",
       "has_nurs     -0.173960\n",
       "Name: evaluation, dtype: float64"
      ]
     },
     "execution_count": 20,
     "metadata": {},
     "output_type": "execute_result"
    }
   ],
   "source": [
    "corr[\"evaluation\"].sort_values(ascending=False)"
   ]
  },
  {
   "cell_type": "markdown",
   "metadata": {},
   "source": [
    "#### Prepare the Data for ML\n",
    "\n",
    "Generally most of the Machine Learning algorithms do not perform well, when the inmut numerical attributes \n",
    "have very different scales. In our data we do not have this case e.g. range from 1 to 10 000 for instance. Algorithms \n",
    "which explore distances, like SVM or k-NN, or/and seek to reduce dimentions - PCA, FA etc.,  are sensitive to feature transformation. However it will be not worked with them \n",
    "but rather just with graphic-model based classifiers, which are invariant to feature scaling. \n",
    "\n",
    "However we need to split the data into training and testing data sets. We use standard 70% / 30% split. This is a classification problem, so stratify the split is stratified according to the target variable - \"evaluation\"."
   ]
  },
  {
   "cell_type": "code",
   "execution_count": 21,
   "metadata": {},
   "outputs": [],
   "source": [
    "nursery_attributes = nursery_data.drop(\"evaluation\", axis = 1) \n",
    "nursery_target = nursery_data.evaluation"
   ]
  },
  {
   "cell_type": "code",
   "execution_count": 23,
   "metadata": {},
   "outputs": [],
   "source": [
    "nursery_attributes_train, nursery_attributes_test, nursery_target_train, nursery_target_test = train_test_split(\n",
    "    nursery_attributes, nursery_target, stratify=nursery_target, train_size=0.7, test_size=0.3)"
   ]
  },
  {
   "cell_type": "markdown",
   "metadata": {},
   "source": [
    " \n",
    "\n",
    "### I. II. Supervised Classification: Naïve Bayes \n",
    "\n",
    "Naive Bayes models are considered as efficient, as they learn parameters by looking at each feature individually and collect simple per-class statistics from each feature. There are basically three kinds of naive classifiers implemented in python and  which we can use: `GaussianNB`, `BernoulliNB` and `MultinomialNB`. We apply the last one, as it assumes discrete count data, represented as integers. This model has a single parameter `àlpha`, which controls for the model complexity. \n",
    "    Naive Bayes calculates the posterior probability P(c|x) from P(c), P(x) and P(x|c), "
   ]
  },
  {
   "cell_type": "markdown",
   "metadata": {},
   "source": [
    "\\begin{equation*}\n",
    "P(c| x)   = \\frac{P(x|c)P(c)}{P(x)}\n",
    "\\end{equation*}"
   ]
  },
  {
   "cell_type": "markdown",
   "metadata": {},
   "source": [
    "where:\n",
    "\n",
    "$P(c|x)$ is the posterior probability of class (c, target) given predictor (x, attributes). <br />\n",
    "$P(c)$ is the prior probability of class. <br />\n",
    "$P(x|c)$ is the likelihood which is the probability of predictor given class. <br />\n",
    "$P(x)$ is the prior probability of predictor. <br />"
   ]
  },
  {
   "cell_type": "markdown",
   "metadata": {},
   "source": [
    "Assumptions:\n",
    "* assumption of independent predictors. In real life, it is almost impossible that we get a set of predictors which are completely independent.    \n",
    "* It performs well in case of categorical input variables compared to numerical variable(s). For numerical variable, \n",
    "    normal distribution is assumed (bell curve, which is a strong assumption).  \n",
    "* If categorical variable has a category (in test data set), which was not observed in training data set, then the model\n",
    "    will assign a 0 (zero) probability and will be unable to make a prediction. This is often known as “Zero Frequency”.\n",
    "    To solve this, we can use the smoothing technique. One of the simplest smoothing techniques is called Laplace estimation."
   ]
  },
  {
   "cell_type": "code",
   "execution_count": 24,
   "metadata": {},
   "outputs": [],
   "source": [
    "# naive bayes\n",
    "bayes_clf = MultinomialNB()\n",
    "bayes_clf.fit(nursery_attributes_train, nursery_target_train)\n",
    "y_pred = bayes_clf.predict(nursery_attributes_test)  # store the predicted outputs"
   ]
  },
  {
   "cell_type": "markdown",
   "metadata": {},
   "source": [
    "#### Accuracy  \n",
    "\n",
    "- The model achieved an accuracy of 0.86. Therefore we can state that 86 % of new data would be correctly classified"
   ]
  },
  {
   "cell_type": "code",
   "execution_count": 25,
   "metadata": {},
   "outputs": [
    {
     "data": {
      "text/plain": [
       "0.8626543209876543"
      ]
     },
     "execution_count": 25,
     "metadata": {},
     "output_type": "execute_result"
    }
   ],
   "source": [
    "accuracy_score(nursery_target_test, y_pred)"
   ]
  },
  {
   "cell_type": "markdown",
   "metadata": {},
   "source": [
    "#### Confusion Matrix\n",
    "From 1296 actual individuals of the group $not\\_recomment$, - Class 0,  the classifier predicted correctly 1279 of them. "
   ]
  },
  {
   "cell_type": "code",
   "execution_count": 26,
   "metadata": {},
   "outputs": [
    {
     "data": {
      "text/plain": [
       "array([[1279,    0,    1,   16],\n",
       "       [   0,    0,   99,    0],\n",
       "       [   0,    0, 1075,  205],\n",
       "       [   0,    0,  213, 1000]], dtype=int64)"
      ]
     },
     "execution_count": 26,
     "metadata": {},
     "output_type": "execute_result"
    }
   ],
   "source": [
    "conf_mx = confusion_matrix(nursery_target_test, y_pred)\n",
    "conf_mx"
   ]
  },
  {
   "cell_type": "code",
   "execution_count": 27,
   "metadata": {},
   "outputs": [
    {
     "data": {
      "text/plain": [
       "<function matplotlib.pyplot.show(*args, **kw)>"
      ]
     },
     "execution_count": 27,
     "metadata": {},
     "output_type": "execute_result"
    },
    {
     "data": {
      "image/png": "[encoded data removed]",
      "text/plain": [
       "<matplotlib.figure.Figure at 0x1af29c3db38>"
      ]
     },
     "metadata": {},
     "output_type": "display_data"
    }
   ],
   "source": [
    "plt.matshow(conf_mx, cmap = plt.cm.Blues)\n",
    "plt.show"
   ]
  },
  {
   "cell_type": "markdown",
   "metadata": {},
   "source": [
    "#### Precision, recall, F1 score\n",
    "\n",
    "\n",
    "##### Precision\n",
    "It show how often the positive classifications are correct. From the table below we see the problem of predicting Class 1  \n",
    "##### Recall\n",
    "In our case it shows how often the actually belonging to their class individuals are predicted as such. It shows \"the true positive rate\"\n",
    "##### F - Score\n",
    "That is the mean of precision and recall"
   ]
  },
  {
   "cell_type": "code",
   "execution_count": 44,
   "metadata": {},
   "outputs": [
    {
     "name": "stdout",
     "output_type": "stream",
     "text": [
      "             precision    recall  f1-score   support\n",
      "\n",
      "          0       1.00      0.99      0.99      1296\n",
      "          1       0.00      0.00      0.00        99\n",
      "          2       0.77      0.84      0.81      1280\n",
      "          3       0.82      0.82      0.82      1213\n",
      "\n",
      "avg / total       0.84      0.86      0.85      3888\n",
      "\n"
     ]
    },
    {
     "name": "stderr",
     "output_type": "stream",
     "text": [
      "C:\\Program Files\\Anaconda3\\lib\\site-packages\\sklearn\\metrics\\classification.py:1135: UndefinedMetricWarning: Precision and F-score are ill-defined and being set to 0.0 in labels with no predicted samples.\n",
      "  'precision', 'predicted', average, warn_for)\n"
     ]
    }
   ],
   "source": [
    "print(classification_report(nursery_target_test, y_pred))"
   ]
  },
  {
   "cell_type": "markdown",
   "metadata": {},
   "source": [
    "#### ROC curve\n",
    "\n",
    "Reciever Operating Characteristics\n",
    "\n",
    "The ROC curve the true positive rate (recall) against the false positive rate. The FPR ist the ratio of the negative instances which are correctly classified as positive. The ROC curve plots sensitivity (recall) versus 1-specifity. Specifity is the True negative rate, which is the ratio of negative instances, which are correctly classified as negative. \n",
    "\n",
    "\n",
    "ROC curves are principally used in binary classification to study the output of a classifier. We have a problem of multi-class  classification. Hence the the output can be binarized and one ROC curve can be drawn per label.\n",
    "\n",
    "We measure compare the classifiers for each class respectively by measuring the area under the curve (AUC). A perfect classifier would have a ROC AUC equal to 1 and a purely random one will show a ROC AUC of 0.5"
   ]
  },
  {
   "cell_type": "code",
   "execution_count": 29,
   "metadata": {},
   "outputs": [
    {
     "data": {
      "text/plain": [
       "(12959,)"
      ]
     },
     "execution_count": 29,
     "metadata": {},
     "output_type": "execute_result"
    }
   ],
   "source": [
    "nursery_target.shape"
   ]
  },
  {
   "cell_type": "code",
   "execution_count": 33,
   "metadata": {},
   "outputs": [
    {
     "data": {
      "image/png": "[encoded data removed]",
      "text/plain": [
       "<matplotlib.figure.Figure at 0x1af29c3d2b0>"
      ]
     },
     "metadata": {},
     "output_type": "display_data"
    }
   ],
   "source": [
    "# classes to binary variables\n",
    "nursery_target_b = label_binarize(nursery_target, classes=[0, 1, 2, 3])\n",
    "n_classes = nursery_target_b.shape[1]\n",
    "\n",
    "X_train, X_test, y_train, y_test = train_test_split(nursery_attributes, nursery_target_b, train_size=0.7, test_size=0.3)\n",
    "\n",
    "# predict each class vs. the other\n",
    "classifier = OneVsRestClassifier(MultinomialNB())\n",
    "y_score = classifier.fit(X_train, y_train).predict(X_test)\n",
    "\n",
    "# ROC curve and ROC area for each class\n",
    "fpr = dict()\n",
    "tpr = dict()\n",
    "roc_auc = dict()\n",
    "for i in range(n_classes):\n",
    "    fpr[i], tpr[i], _ = roc_curve(y_test[:, i], y_score[:, i])\n",
    "    roc_auc[i] = auc(fpr[i], tpr[i])\n",
    "# aggregate all false positive rates\n",
    "all_fpr = np.unique(np.concatenate([fpr[i] for i in range(n_classes)]))\n",
    "\n",
    "# interpolate all ROC curves at this points\n",
    "mean_tpr = np.zeros_like(all_fpr)\n",
    "for i in range(n_classes):\n",
    "    mean_tpr += interp(all_fpr, fpr[i], tpr[i])\n",
    "\n",
    "# in the end average it and compute AUC\n",
    "mean_tpr /= n_classes\n",
    "\n",
    "# Plot all ROC curves\n",
    "plt.figure()\n",
    "lw = 2\n",
    "colors = cycle(['aqua', 'darkorange', 'cornflowerblue'])\n",
    "for i, color in zip(range(n_classes), colors):\n",
    "    plt.plot(fpr[i], tpr[i], color=color, lw=lw,\n",
    "             label='ROC curve of class {0} (area = {1:0.2f})'\n",
    "             ''.format(i, roc_auc[i]))\n",
    "\n",
    "plt.plot([0, 1], [0, 1], 'k--', lw=lw)\n",
    "plt.xlim([0.0, 1.0])\n",
    "plt.ylim([0.0, 1.05])\n",
    "plt.xlabel('False Positive Rate')\n",
    "plt.ylabel('True Positive Rate')\n",
    "plt.title('Some extension of Receiver operating characteristic to multi-class')\n",
    "plt.legend(loc=\"lower right\")\n",
    "plt.show()"
   ]
  },
  {
   "cell_type": "markdown",
   "metadata": {},
   "source": [
    "### III Tuning the models\n",
    "\n",
    "####  Cross-Validation\n",
    "\n",
    "\n",
    "To achieve better evaluation of the model we will use cross-validation. That is a random split into a number (we will choose 5) of different subsets. Those are called also folds and we will perform stratified K-fold cross validation. After the split the model is trained and evaluated, taking a different fold for evaluation every time and training on the rest 4.\n",
    "\n",
    "The result is an array containing 5 evaluation scores.The cross-validation allows us to get not only an estimate of the model's performance and also a measure of how precise this estimate is (the standard deviation).\n"
   ]
  },
  {
   "cell_type": "code",
   "execution_count": 54,
   "metadata": {},
   "outputs": [],
   "source": [
    "bayes_scores_scv = cross_val_score(bayes_clf, nursery_attributes_train, nursery_target_train, cv=5)"
   ]
  },
  {
   "cell_type": "code",
   "execution_count": 55,
   "metadata": {},
   "outputs": [
    {
     "name": "stdout",
     "output_type": "stream",
     "text": [
      "Scores: [0.87059471 0.86163175 0.85446527 0.8660419  0.854385  ]\n",
      "Mean: 0.8614237260826825\n",
      "Standard deviation: 0.006378739657197674\n"
     ]
    }
   ],
   "source": [
    "print(\"Scores:\", bayes_scores_scv)\n",
    "print(\"Mean:\", bayes_scores_scv.mean())\n",
    "print(\"Standard deviation:\", bayes_scores_scv.std())"
   ]
  },
  {
   "cell_type": "markdown",
   "metadata": {},
   "source": [
    "#### Leave One Out CV\n",
    "\n",
    "LOOCV takes just one data point from the data and trains the model on the rest of it. This approach iterates for each data point. Hence:  \n",
    "* All data points are considered => low bias  \n",
    "* the cross validation is repeated n times (n - number of data points) which takes time and comuptational resources\n",
    "* it  test against one data point => higher variation aka. low efficiency. The respective data point has high impact over the estimation.  If this data is an outlier, it can lead to a higher variation. Our Stdandard Deviation results exemplify this. "
   ]
  },
  {
   "cell_type": "code",
   "execution_count": 52,
   "metadata": {},
   "outputs": [],
   "source": [
    "loocv = LeaveOneOut()\n",
    "results_loocv = cross_val_score(bayes_clf, nursery_attributes_train, nursery_target_train, cv=loocv)"
   ]
  },
  {
   "cell_type": "code",
   "execution_count": 57,
   "metadata": {},
   "outputs": [
    {
     "name": "stdout",
     "output_type": "stream",
     "text": [
      "Mean Score: 0.86164700694521\n",
      "Standard deviation: 0.34527010059889524\n"
     ]
    }
   ],
   "source": [
    "print(\"Mean Score:\", results_loocv.mean())\n",
    "print(\"Standard deviation:\", results_loocv.std())"
   ]
  },
  {
   "cell_type": "markdown",
   "metadata": {},
   "source": [
    "#### Try Grid Search\n",
    "\n",
    "We will optimize the hyperparameters of our models. The Grid-Search method allows us to \n",
    "specifiy the values of the hyperparamethers we want to try out. Here we evaluate all combinations using cross validation."
   ]
  },
  {
   "cell_type": "code",
   "execution_count": 45,
   "metadata": {},
   "outputs": [
    {
     "name": "stdout",
     "output_type": "stream",
     "text": [
      "Naive Bayes - best parameters: {'alpha': 0.1}\n",
      "Naive Bayes - best score: 0.8615367655164811\n"
     ]
    }
   ],
   "source": [
    "# grid search naive bayes\n",
    "\n",
    "param_grid = [\n",
    "    {'alpha': [1, 0.1, 0.01, 0.001, 0.0001, 0.00001]}\n",
    "]\n",
    "bayes_classifier = MultinomialNB()\n",
    "grid_search = GridSearchCV(bayes_classifier, param_grid, cv=5, scoring = \"accuracy\")\n",
    "grid_search.fit(nursery_attributes_train, nursery_target_train)\n",
    "best_bayes_classifier = grid_search.best_estimator_\n",
    "print(\"Naive Bayes - best parameters:\", grid_search.best_params_)\n",
    "print(\"Naive Bayes - best score:\", grid_search.best_score_)"
   ]
  },
  {
   "cell_type": "code",
   "execution_count": 44,
   "metadata": {},
   "outputs": [
    {
     "data": {
      "text/plain": [
       "0.8665123456790124"
      ]
     },
     "execution_count": 44,
     "metadata": {},
     "output_type": "execute_result"
    }
   ],
   "source": [
    "bayes_classifier_score = best_bayes_classifier.score(nursery_attributes_test, nursery_target_test)\n",
    "bayes_classifier_score"
   ]
  },
  {
   "cell_type": "markdown",
   "metadata": {},
   "source": [
    "#### IV. Correlation Structure \n",
    "In the descriptive part we saw there is no correlation among attributes. However all  relate to the target variable. Highest correlations are witnessed by the health conditions of the family, followed by he parents occupation and if parents have nursing experience. We see also that the dataset is noiseless. It completely covers the attribute space."
   ]
  },
  {
   "cell_type": "code",
   "execution_count": 59,
   "metadata": {},
   "outputs": [
    {
     "data": {
      "text/html": [
       "<div>\n",
       "<style scoped>\n",
       "    .dataframe tbody tr th:only-of-type {\n",
       "        vertical-align: middle;\n",
       "    }\n",
       "\n",
       "    .dataframe tbody tr th {\n",
       "        vertical-align: top;\n",
       "    }\n",
       "\n",
       "    .dataframe thead th {\n",
       "        text-align: right;\n",
       "    }\n",
       "</style>\n",
       "<table border=\"1\" class=\"dataframe\">\n",
       "  <thead>\n",
       "    <tr style=\"text-align: right;\">\n",
       "      <th></th>\n",
       "      <th>parents</th>\n",
       "      <th>has_nurs</th>\n",
       "      <th>form</th>\n",
       "      <th>housing</th>\n",
       "      <th>finance</th>\n",
       "      <th>social</th>\n",
       "      <th>health</th>\n",
       "      <th>evaluation</th>\n",
       "    </tr>\n",
       "  </thead>\n",
       "  <tbody>\n",
       "    <tr>\n",
       "      <th>parents</th>\n",
       "      <td>1.000000</td>\n",
       "      <td>0.000134</td>\n",
       "      <td>0.000127</td>\n",
       "      <td>0.000116</td>\n",
       "      <td>0.000095</td>\n",
       "      <td>0.000116</td>\n",
       "      <td>0.000116</td>\n",
       "      <td>0.111790</td>\n",
       "    </tr>\n",
       "    <tr>\n",
       "      <th>has_nurs</th>\n",
       "      <td>0.000134</td>\n",
       "      <td>1.000000</td>\n",
       "      <td>-0.000146</td>\n",
       "      <td>-0.000134</td>\n",
       "      <td>-0.000109</td>\n",
       "      <td>-0.000134</td>\n",
       "      <td>-0.000134</td>\n",
       "      <td>-0.173960</td>\n",
       "    </tr>\n",
       "    <tr>\n",
       "      <th>form</th>\n",
       "      <td>0.000127</td>\n",
       "      <td>-0.000146</td>\n",
       "      <td>1.000000</td>\n",
       "      <td>-0.000127</td>\n",
       "      <td>-0.000104</td>\n",
       "      <td>-0.000127</td>\n",
       "      <td>-0.000127</td>\n",
       "      <td>-0.030618</td>\n",
       "    </tr>\n",
       "    <tr>\n",
       "      <th>housing</th>\n",
       "      <td>0.000116</td>\n",
       "      <td>-0.000134</td>\n",
       "      <td>-0.000127</td>\n",
       "      <td>1.000000</td>\n",
       "      <td>-0.000095</td>\n",
       "      <td>-0.000116</td>\n",
       "      <td>-0.000116</td>\n",
       "      <td>-0.057019</td>\n",
       "    </tr>\n",
       "    <tr>\n",
       "      <th>finance</th>\n",
       "      <td>0.000095</td>\n",
       "      <td>-0.000109</td>\n",
       "      <td>-0.000104</td>\n",
       "      <td>-0.000095</td>\n",
       "      <td>1.000000</td>\n",
       "      <td>-0.000095</td>\n",
       "      <td>-0.000095</td>\n",
       "      <td>-0.027568</td>\n",
       "    </tr>\n",
       "    <tr>\n",
       "      <th>social</th>\n",
       "      <td>0.000116</td>\n",
       "      <td>-0.000134</td>\n",
       "      <td>-0.000127</td>\n",
       "      <td>-0.000116</td>\n",
       "      <td>-0.000095</td>\n",
       "      <td>1.000000</td>\n",
       "      <td>-0.000116</td>\n",
       "      <td>-0.046539</td>\n",
       "    </tr>\n",
       "    <tr>\n",
       "      <th>health</th>\n",
       "      <td>0.000116</td>\n",
       "      <td>-0.000134</td>\n",
       "      <td>-0.000127</td>\n",
       "      <td>-0.000116</td>\n",
       "      <td>-0.000095</td>\n",
       "      <td>-0.000116</td>\n",
       "      <td>1.000000</td>\n",
       "      <td>0.756444</td>\n",
       "    </tr>\n",
       "    <tr>\n",
       "      <th>evaluation</th>\n",
       "      <td>0.111790</td>\n",
       "      <td>-0.173960</td>\n",
       "      <td>-0.030618</td>\n",
       "      <td>-0.057019</td>\n",
       "      <td>-0.027568</td>\n",
       "      <td>-0.046539</td>\n",
       "      <td>0.756444</td>\n",
       "      <td>1.000000</td>\n",
       "    </tr>\n",
       "  </tbody>\n",
       "</table>\n",
       "</div>"
      ],
      "text/plain": [
       "             parents  has_nurs      form   housing   finance    social  \\\n",
       "parents     1.000000  0.000134  0.000127  0.000116  0.000095  0.000116   \n",
       "has_nurs    0.000134  1.000000 -0.000146 -0.000134 -0.000109 -0.000134   \n",
       "form        0.000127 -0.000146  1.000000 -0.000127 -0.000104 -0.000127   \n",
       "housing     0.000116 -0.000134 -0.000127  1.000000 -0.000095 -0.000116   \n",
       "finance     0.000095 -0.000109 -0.000104 -0.000095  1.000000 -0.000095   \n",
       "social      0.000116 -0.000134 -0.000127 -0.000116 -0.000095  1.000000   \n",
       "health      0.000116 -0.000134 -0.000127 -0.000116 -0.000095 -0.000116   \n",
       "evaluation  0.111790 -0.173960 -0.030618 -0.057019 -0.027568 -0.046539   \n",
       "\n",
       "              health  evaluation  \n",
       "parents     0.000116    0.111790  \n",
       "has_nurs   -0.000134   -0.173960  \n",
       "form       -0.000127   -0.030618  \n",
       "housing    -0.000116   -0.057019  \n",
       "finance    -0.000095   -0.027568  \n",
       "social     -0.000116   -0.046539  \n",
       "health      1.000000    0.756444  \n",
       "evaluation  0.756444    1.000000  "
      ]
     },
     "execution_count": 59,
     "metadata": {},
     "output_type": "execute_result"
    }
   ],
   "source": [
    "corr"
   ]
  },
  {
   "cell_type": "markdown",
   "metadata": {},
   "source": [
    "### 6.3 Supervised Classification: k-nearest Neighbors\n",
    "I. Analyze the same dataset as before using the k-nearest Neighbor approach.  \n",
    "II. Determine the best value for k using cross-validation.  \n",
    "III. Discuss the same properties as before for this method, for the best k.  \n",
    "IV. Use the same 3 hold-out set strategies as before.  \n",
    "V. Describe a data-structure that could be used in the actual implementation of the algorithm to\n",
    "speed-up the distance calculations. Explain which speed-up can be achieved on average.  "
   ]
  },
  {
   "cell_type": "markdown",
   "metadata": {},
   "source": [
    "#### I. Analyze the same dataset. Accuracy"
   ]
  },
  {
   "cell_type": "code",
   "execution_count": 38,
   "metadata": {},
   "outputs": [
    {
     "name": "stdout",
     "output_type": "stream",
     "text": [
      "Accuracy: 0.9665637860082305\n"
     ]
    }
   ],
   "source": [
    "knn_clf = KNeighborsClassifier(n_neighbors=5)     # default is 5\n",
    "knn_clf.fit(nursery_attributes_train, nursery_target_train)\n",
    "y_pred_knn = knn_clf.predict(nursery_attributes_test)\n",
    "\n",
    "print(\"Accuracy:\", accuracy_score(nursery_target_test, y_pred_knn))"
   ]
  },
  {
   "cell_type": "markdown",
   "metadata": {},
   "source": [
    "#### II., III.  Cross validation to find the best value for K"
   ]
  },
  {
   "cell_type": "code",
   "execution_count": 39,
   "metadata": {},
   "outputs": [],
   "source": [
    "# creating odd list of K for KNN\n",
    "neighbors = list(range(1, 50, 2))\n",
    "\n",
    "# empty list that will hold cv scores\n",
    "knn_cv_scores = []\n",
    "\n",
    "# perform 10-fold cross validation\n",
    "for k in neighbors:\n",
    "    knn = KNeighborsClassifier(n_neighbors=k)\n",
    "    scores = cross_val_score(knn, nursery_attributes_train, nursery_target_train, cv=5, scoring='accuracy')\n",
    "    knn_cv_scores.append(scores.mean())"
   ]
  },
  {
   "cell_type": "markdown",
   "metadata": {},
   "source": [
    "To analyze which is the best value for K, we  plot the misclassification error versus K. The model achieves its highest accuracy when K = 6, 7 or 8"
   ]
  },
  {
   "cell_type": "code",
   "execution_count": 40,
   "metadata": {},
   "outputs": [
    {
     "name": "stdout",
     "output_type": "stream",
     "text": [
      "The optimal number of neighbors is 7\n"
     ]
    },
    {
     "data": {
      "image/png": "[encoded data removed]",
      "text/plain": [
       "<matplotlib.figure.Figure at 0x1af29c68cc0>"
      ]
     },
     "metadata": {},
     "output_type": "display_data"
    }
   ],
   "source": [
    "mse = [1 - x for x in knn_cv_scores]\n",
    "\n",
    "# determining best k\n",
    "optimal_k = neighbors[mse.index(min(mse))]\n",
    "print(\"The optimal number of neighbors is {}\".format(optimal_k))\n",
    "\n",
    "# plot misclassification error vs k\n",
    "plt.plot(neighbors, mse)\n",
    "plt.xlabel('N K-Neighbors')\n",
    "plt.ylabel('Misclassification Error')\n",
    "plt.show()"
   ]
  },
  {
   "cell_type": "markdown",
   "metadata": {},
   "source": [
    "#### Confusion Matrix, Precision, recall, F1 score\n"
   ]
  },
  {
   "cell_type": "code",
   "execution_count": 41,
   "metadata": {},
   "outputs": [
    {
     "data": {
      "text/plain": [
       "array([[1296,    0,    0,    0],\n",
       "       [   0,   72,   27,    0],\n",
       "       [   0,    0, 1224,   56],\n",
       "       [   0,    0,   47, 1166]], dtype=int64)"
      ]
     },
     "execution_count": 41,
     "metadata": {},
     "output_type": "execute_result"
    }
   ],
   "source": [
    "conf_mx_knn = confusion_matrix(nursery_target_test, y_pred_knn)\n",
    "conf_mx_knn"
   ]
  },
  {
   "cell_type": "code",
   "execution_count": 42,
   "metadata": {},
   "outputs": [
    {
     "name": "stdout",
     "output_type": "stream",
     "text": [
      "             precision    recall  f1-score   support\n",
      "\n",
      "          0       1.00      1.00      1.00      1296\n",
      "          1       1.00      0.73      0.84        99\n",
      "          2       0.94      0.96      0.95      1280\n",
      "          3       0.95      0.96      0.96      1213\n",
      "\n",
      "avg / total       0.97      0.97      0.97      3888\n",
      "\n"
     ]
    }
   ],
   "source": [
    "print(classification_report(nursery_target_test, y_pred_knn))"
   ]
  },
  {
   "cell_type": "markdown",
   "metadata": {},
   "source": [
    "Up to know we witness a better performance of the KNN Classifier on this data set. This is especially visibale from the much better classification of our unbalanced Class 1. The same evident we see at the combined ROC curve for the KNN classification of each class separately. We show this below. Both multiclass classificators Naive Bayes and KNN could be plotted into a single plot. However this will overwhelm the graph, so I will abstain if doing this."
   ]
  },
  {
   "cell_type": "code",
   "execution_count": 35,
   "metadata": {},
   "outputs": [
    {
     "data": {
      "image/png": "[encoded data removed]",
      "text/plain": [
       "<matplotlib.figure.Figure at 0x1af2782d9b0>"
      ]
     },
     "metadata": {},
     "output_type": "display_data"
    }
   ],
   "source": [
    "# predict each class vs. the other\n",
    "classifier= OneVsRestClassifier(KNeighborsClassifier(n_neighbors=5))\n",
    "y_score= classifier.fit(X_train, y_train).predict(X_test)\n",
    "\n",
    "# ROC curve and ROC area for each class\n",
    "fpr = dict()\n",
    "tpr = dict()\n",
    "roc_auc = dict()\n",
    "for i in range(n_classes):\n",
    "    fpr[i], tpr[i], _ = roc_curve(y_test[:, i], y_score[:, i])\n",
    "    roc_auc[i] = auc(fpr[i], tpr[i])\n",
    "# aggregate all false positive rates\n",
    "all_fpr = np.unique(np.concatenate([fpr[i] for i in range(n_classes)]))\n",
    "\n",
    "# interpolate all ROC curves at this points\n",
    "mean_tpr = np.zeros_like(all_fpr_k)\n",
    "for i in range(n_classes):\n",
    "    mean_tpr += interp(all_fpr_k, fpr[i], tpr[i])\n",
    "\n",
    "# in the end average it and compute AUC\n",
    "mean_tpr /= n_classes\n",
    "\n",
    "# Plot all ROC curves\n",
    "plt.figure()\n",
    "\n",
    "colors = cycle(['aqua', 'darkorange', 'cornflowerblue'])\n",
    "for i, color in zip(range(n_classes), colors):\n",
    "    plt.plot(fpr[i], tpr[i], color=color, lw=lw,\n",
    "             label='ROC curve of class {0} (area = {1:0.2f})'\n",
    "             ''.format(i, roc_auc[i]))\n",
    "\n",
    "plt.plot([0, 1], [0, 1], 'k--', lw=lw)\n",
    "plt.xlim([0.0, 1.0])\n",
    "plt.ylim([0.0, 1.05])\n",
    "plt.xlabel('False Positive Rate')\n",
    "plt.ylabel('True Positive Rate')\n",
    "plt.title('Some extension of Receiver operating characteristic to multi-class')\n",
    "plt.legend(loc=\"lower right\")\n",
    "plt.show()"
   ]
  },
  {
   "cell_type": "markdown",
   "metadata": {},
   "source": [
    "#### V. Discussion and KNN Specifics (speed, complexity)\n",
    "\n",
    "The KNN classifier is not just a simple and easy to implement algorithm. It has very short running time and that makes it attractive when compared to more complex algorithms. It is suitable for multiclass classification whereas other algorithms are developed primary for binary dependent variables. This was exemplified also in the current projekt, where KNNs outperformed the Naive Bayes Classifier. Further, it is a non-parametric algorithm and in this sense it is appropriate to be applied at complex data sets.  \n",
    "On the other hand, KNN has a computationally tedious testing phase. This makes it unatractive to be applied in production. For instance Deep Learning methods have long training but zero testing phase. Data of higher dimensions is problematic for this algorithm, because in that case, the difference between the nearest and farthest neighbour is low.    \n",
    "We can decrease the testing time by apllying approximate Nearest Neighbor techniques such as using K-D trees, metric trees,  or ball-tree to store the training observations. However  these methods  perform poorly in high dimensions.  \n"
   ]
  }
 ],
 "metadata": {
  "kernelspec": {
   "display_name": "Python 3",
   "language": "python",
   "name": "python3"
  },
  "language_info": {
   "codemirror_mode": {
    "name": "ipython",
    "version": 3
   },
   "file_extension": ".py",
   "mimetype": "text/x-python",
   "name": "python",
   "nbconvert_exporter": "python",
   "pygments_lexer": "ipython3",
   "version": "3.6.7"
  }
 },
 "nbformat": 4,
 "nbformat_minor": 2
}
